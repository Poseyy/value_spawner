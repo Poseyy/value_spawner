{
 "cells": [
  {
   "cell_type": "code",
   "execution_count": 11,
   "metadata": {},
   "outputs": [],
   "source": [
    "import ffn \n",
    "import pandas as pd\n",
    "import plotly.graph_objects as go\n",
    "from spawner.metrics import sharpe, max_drawdown\n",
    "from spawner.indicators import value\n",
    "\n",
    "# You can get an API Token from https://spawner.ai, replace with your token...\n",
    "token = 'sp_zfdj3821ZNkfj3901vzoq'"
   ]
  },
  {
   "cell_type": "code",
   "execution_count": 3,
   "metadata": {},
   "outputs": [
    {
     "output_type": "stream",
     "name": "stdout",
     "text": "debt_equity_ratio  free_cash_flow  price_book_ratio  price_earnings_ratio  \\\n0              2.231    8.792000e+09              9.15                17.558   \n\n   price_sales_ratio  value  \n0              3.807    0.4  \n"
    }
   ],
   "source": [
    "ticker = 'AAPL'\n",
    "value_rating = value(token, ticker)\n",
    "print(value_rating)"
   ]
  },
  {
   "cell_type": "code",
   "execution_count": 10,
   "metadata": {},
   "outputs": [
    {
     "output_type": "stream",
     "name": "stdout",
     "text": "0.92\n-0.27\n"
    }
   ],
   "source": [
    "# purchase price is optional field, we will pass None\n",
    "ticker = 'SPY'\n",
    "purchase_date = '2009-01-01'\n",
    "sale_date = '2020-01-01'\n",
    "sharpe_ratio = sharpe(token, ticker, purchase_date, sale_date, None)\n",
    "max_drawdown = max_drawdown(token, ticker, purchase_date, sale_date, None) \n",
    "\n",
    "print(sharpe_ratio)\n",
    "print(max_drawdown)"
   ]
  },
  {
   "cell_type": "code",
   "execution_count": 4,
   "metadata": {},
   "outputs": [
    {
     "output_type": "display_data",
     "data": {
      "application/vnd.plotly.v1+json": {
       "config": {
        "plotlyServerURL": "https://plot.ly"
       },
       "data": [
        {
         "mode": "lines",
         "name": "S&P 500",
         "showlegend": true,
         "type": "scatter",
         "x": [
          1577923200000000000,
          1578009600000000000,
          1578268800000000000,
          1578355200000000000,
          1578441600000000000,
          1578528000000000000,
          1578614400000000000,
          1578873600000000000,
          1578960000000000000,
          1579046400000000000,
          1579132800000000000,
          1579219200000000000,
          1579564800000000000,
          1579651200000000000,
          1579737600000000000,
          1579824000000000000,
          1580083200000000000,
          1580169600000000000,
          1580256000000000000,
          1580342400000000000,
          1580428800000000000,
          1580688000000000000,
          1580774400000000000,
          1580860800000000000,
          1580947200000000000,
          1581033600000000000,
          1581292800000000000,
          1581379200000000000,
          1581465600000000000,
          1581552000000000000,
          1581638400000000000,
          1581984000000000000,
          1582070400000000000,
          1582156800000000000,
          1582243200000000000,
          1582502400000000000,
          1582588800000000000,
          1582675200000000000,
          1582761600000000000,
          1582848000000000000,
          1583107200000000000,
          1583193600000000000,
          1583280000000000000,
          1583366400000000000,
          1583452800000000000,
          1583712000000000000,
          1583798400000000000,
          1583884800000000000,
          1583971200000000000,
          1584057600000000000,
          1584316800000000000,
          1584403200000000000,
          1584489600000000000,
          1584576000000000000,
          1584662400000000000,
          1584921600000000000,
          1585008000000000000,
          1585094400000000000,
          1585180800000000000,
          1585267200000000000,
          1585526400000000000,
          1585612800000000000,
          1585699200000000000,
          1585785600000000000,
          1585872000000000000,
          1586131200000000000,
          1586217600000000000,
          1586304000000000000,
          1586390400000000000,
          1586736000000000000,
          1586822400000000000,
          1586908800000000000,
          1586995200000000000,
          1587081600000000000,
          1587340800000000000,
          1587427200000000000,
          1587513600000000000,
          1587600000000000000,
          1587686400000000000
         ],
         "y": [
          100,
          99.24278387785517,
          99.62139666343762,
          99.34128046316829,
          99.87072795628656,
          100.54791087835444,
          100.25856298546702,
          100.94807687873922,
          100.79417123967742,
          101.02194931772405,
          101.86228846951198,
          102.17934088927375,
          101.97925788908135,
          101.99156996224549,
          102.10853938181488,
          101.20047910311413,
          99.57829968285309,
          100.62179276635936,
          100.53867918573636,
          100.86496329811621,
          99.0334691850447,
          99.76914154140731,
          101.28975344482924,
          102.459447640523,
          102.80420458715909,
          102.25629370880462,
          103.01967059204158,
          103.19820982645173,
          103.86309012437556,
          103.75227201687822,
          103.91849917812424,
          103.65069505101904,
          104.14627725617088,
          103.71841617793184,
          102.6502989480973,
          99.24586425840121,
          96.23849629050369,
          95.88450765124952,
          91.57817344394482,
          91.19340934629034,
          95.1426745337948,
          92.41850314671267,
          96.30313703687045,
          93.10185627889274,
          91.56278099023463,
          84.41223504475245,
          88.78013906689792,
          84.45224219577085,
          76.37209220580571,
          82.90085483394859,
          73.82953570916975,
          77.8157465651867,
          73.87570834579029,
          74.03268964088811,
          70.84231305208262,
          69.03100204590183,
          75.28543599857433,
          76.41247259311726,
          80.87418176210618,
          78.46529110352081,
          81.01350756318465,
          79.80597004207081,
          76.21431246851114,
          77.97298770833672,
          76.8459511137938,
          82.00740274029141,
          82.09100766995859,
          84.84667264096709,
          86.1378150917481,
          85.35136370147598,
          87.86862044684793,
          86.00157912023576,
          86.41647614292512,
          88.75105498309193,
          87.18744058928624,
          84.54014642957436,
          86.41647614292512,
          86.4102775857527,
          87.61472527730038
         ]
        },
        {
         "mode": "lines",
         "name": "Value",
         "showlegend": true,
         "type": "scatter",
         "x": [
          1577923200000000000,
          1578009600000000000,
          1578268800000000000,
          1578355200000000000,
          1578441600000000000,
          1578528000000000000,
          1578614400000000000,
          1578873600000000000,
          1578960000000000000,
          1579046400000000000,
          1579132800000000000,
          1579219200000000000,
          1579564800000000000,
          1579651200000000000,
          1579737600000000000,
          1579824000000000000,
          1580083200000000000,
          1580169600000000000,
          1580256000000000000,
          1580342400000000000,
          1580428800000000000,
          1580688000000000000,
          1580774400000000000,
          1580860800000000000,
          1580947200000000000,
          1581033600000000000,
          1581292800000000000,
          1581379200000000000,
          1581465600000000000,
          1581552000000000000,
          1581638400000000000,
          1581984000000000000,
          1582070400000000000,
          1582156800000000000,
          1582243200000000000,
          1582502400000000000,
          1582588800000000000,
          1582675200000000000,
          1582761600000000000,
          1582848000000000000,
          1583107200000000000,
          1583193600000000000,
          1583280000000000000,
          1583366400000000000,
          1583452800000000000,
          1583712000000000000,
          1583798400000000000,
          1583884800000000000,
          1583971200000000000,
          1584057600000000000,
          1584316800000000000,
          1584403200000000000,
          1584489600000000000,
          1584576000000000000,
          1584662400000000000,
          1584921600000000000,
          1585008000000000000,
          1585094400000000000,
          1585180800000000000,
          1585267200000000000,
          1585526400000000000,
          1585612800000000000,
          1585699200000000000,
          1585785600000000000,
          1585872000000000000,
          1586131200000000000,
          1586217600000000000,
          1586304000000000000,
          1586390400000000000,
          1586736000000000000,
          1586822400000000000,
          1586908800000000000,
          1586995200000000000,
          1587081600000000000,
          1587340800000000000,
          1587427200000000000,
          1587513600000000000,
          1587600000000000000,
          1587686400000000000
         ],
         "y": [
          100,
          99.35218384507945,
          99.5877506181482,
          99.45033917685193,
          99.85277829581354,
          100.66745173866394,
          100.53004029736768,
          101.36434932396145,
          101.217127619775,
          101.5214038779826,
          102.34589511270471,
          102.63055084513194,
          102.35571290457641,
          102.41460459784359,
          102.31645679505262,
          101.25639125828027,
          99.577940355258,
          100.47114860410046,
          100.60856757437824,
          100.74597901567451,
          98.45897559623698,
          99.44052138498024,
          100.90303356969568,
          102.12996392337936,
          102.49313187485419,
          101.81586987330004,
          102.30664653216242,
          102.49313187485419,
          103.11150971212261,
          102.86612514718219,
          103.06242828174564,
          102.7777800782999,
          103.12131997501281,
          102.8072259249335,
          101.81586987330004,
          98.30192857119732,
          95.29839198271888,
          95.09226352730224,
          91.04829698579483,
          90.25324406872485,
          94.24813670883674,
          91.42128272914135,
          94.98429793263956,
          91.9905791360328,
          90.64585786683324,
          84.26580647551135,
          88.62387459607956,
          84.26580647551135,
          76.37416899807853,
          83.29407847863979,
          74.81350901057212,
          78.07224795586271,
          74.71536120778114,
          74.73498173356154,
          70.73027130157796,
          68.00157265365503,
          75.04908331262236,
          76.6477571277056,
          80.95037429955062,
          78.43394022696415,
          81.36484473094394,
          79.97340613155735,
          76.63789416194493,
          78.44380319272484,
          77.22999585378989,
          82.40102833840875,
          82.6477380040926,
          85.41088927134442,
          86.28917507886044,
          84.90759944523452,
          87.58193131776977,
          85.55890904756953,
          85.73654030802118,
          88.21350745960194,
          86.60496314977651,
          84.03918413246069,
          85.97338700794435,
          85.88456761322779,
          87.24640978635084
         ]
        }
       ],
       "layout": {
        "autosize": false,
        "margin": {
         "autoexpand": false,
         "l": 100,
         "r": 20,
         "t": 110
        },
        "plot_bgcolor": "white",
        "showlegend": true,
        "template": {
         "data": {
          "bar": [
           {
            "error_x": {
             "color": "#2a3f5f"
            },
            "error_y": {
             "color": "#2a3f5f"
            },
            "marker": {
             "line": {
              "color": "#E5ECF6",
              "width": 0.5
             }
            },
            "type": "bar"
           }
          ],
          "barpolar": [
           {
            "marker": {
             "line": {
              "color": "#E5ECF6",
              "width": 0.5
             }
            },
            "type": "barpolar"
           }
          ],
          "carpet": [
           {
            "aaxis": {
             "endlinecolor": "#2a3f5f",
             "gridcolor": "white",
             "linecolor": "white",
             "minorgridcolor": "white",
             "startlinecolor": "#2a3f5f"
            },
            "baxis": {
             "endlinecolor": "#2a3f5f",
             "gridcolor": "white",
             "linecolor": "white",
             "minorgridcolor": "white",
             "startlinecolor": "#2a3f5f"
            },
            "type": "carpet"
           }
          ],
          "choropleth": [
           {
            "colorbar": {
             "outlinewidth": 0,
             "ticks": ""
            },
            "type": "choropleth"
           }
          ],
          "contour": [
           {
            "colorbar": {
             "outlinewidth": 0,
             "ticks": ""
            },
            "colorscale": [
             [
              0,
              "#0d0887"
             ],
             [
              0.1111111111111111,
              "#46039f"
             ],
             [
              0.2222222222222222,
              "#7201a8"
             ],
             [
              0.3333333333333333,
              "#9c179e"
             ],
             [
              0.4444444444444444,
              "#bd3786"
             ],
             [
              0.5555555555555556,
              "#d8576b"
             ],
             [
              0.6666666666666666,
              "#ed7953"
             ],
             [
              0.7777777777777778,
              "#fb9f3a"
             ],
             [
              0.8888888888888888,
              "#fdca26"
             ],
             [
              1,
              "#f0f921"
             ]
            ],
            "type": "contour"
           }
          ],
          "contourcarpet": [
           {
            "colorbar": {
             "outlinewidth": 0,
             "ticks": ""
            },
            "type": "contourcarpet"
           }
          ],
          "heatmap": [
           {
            "colorbar": {
             "outlinewidth": 0,
             "ticks": ""
            },
            "colorscale": [
             [
              0,
              "#0d0887"
             ],
             [
              0.1111111111111111,
              "#46039f"
             ],
             [
              0.2222222222222222,
              "#7201a8"
             ],
             [
              0.3333333333333333,
              "#9c179e"
             ],
             [
              0.4444444444444444,
              "#bd3786"
             ],
             [
              0.5555555555555556,
              "#d8576b"
             ],
             [
              0.6666666666666666,
              "#ed7953"
             ],
             [
              0.7777777777777778,
              "#fb9f3a"
             ],
             [
              0.8888888888888888,
              "#fdca26"
             ],
             [
              1,
              "#f0f921"
             ]
            ],
            "type": "heatmap"
           }
          ],
          "heatmapgl": [
           {
            "colorbar": {
             "outlinewidth": 0,
             "ticks": ""
            },
            "colorscale": [
             [
              0,
              "#0d0887"
             ],
             [
              0.1111111111111111,
              "#46039f"
             ],
             [
              0.2222222222222222,
              "#7201a8"
             ],
             [
              0.3333333333333333,
              "#9c179e"
             ],
             [
              0.4444444444444444,
              "#bd3786"
             ],
             [
              0.5555555555555556,
              "#d8576b"
             ],
             [
              0.6666666666666666,
              "#ed7953"
             ],
             [
              0.7777777777777778,
              "#fb9f3a"
             ],
             [
              0.8888888888888888,
              "#fdca26"
             ],
             [
              1,
              "#f0f921"
             ]
            ],
            "type": "heatmapgl"
           }
          ],
          "histogram": [
           {
            "marker": {
             "colorbar": {
              "outlinewidth": 0,
              "ticks": ""
             }
            },
            "type": "histogram"
           }
          ],
          "histogram2d": [
           {
            "colorbar": {
             "outlinewidth": 0,
             "ticks": ""
            },
            "colorscale": [
             [
              0,
              "#0d0887"
             ],
             [
              0.1111111111111111,
              "#46039f"
             ],
             [
              0.2222222222222222,
              "#7201a8"
             ],
             [
              0.3333333333333333,
              "#9c179e"
             ],
             [
              0.4444444444444444,
              "#bd3786"
             ],
             [
              0.5555555555555556,
              "#d8576b"
             ],
             [
              0.6666666666666666,
              "#ed7953"
             ],
             [
              0.7777777777777778,
              "#fb9f3a"
             ],
             [
              0.8888888888888888,
              "#fdca26"
             ],
             [
              1,
              "#f0f921"
             ]
            ],
            "type": "histogram2d"
           }
          ],
          "histogram2dcontour": [
           {
            "colorbar": {
             "outlinewidth": 0,
             "ticks": ""
            },
            "colorscale": [
             [
              0,
              "#0d0887"
             ],
             [
              0.1111111111111111,
              "#46039f"
             ],
             [
              0.2222222222222222,
              "#7201a8"
             ],
             [
              0.3333333333333333,
              "#9c179e"
             ],
             [
              0.4444444444444444,
              "#bd3786"
             ],
             [
              0.5555555555555556,
              "#d8576b"
             ],
             [
              0.6666666666666666,
              "#ed7953"
             ],
             [
              0.7777777777777778,
              "#fb9f3a"
             ],
             [
              0.8888888888888888,
              "#fdca26"
             ],
             [
              1,
              "#f0f921"
             ]
            ],
            "type": "histogram2dcontour"
           }
          ],
          "mesh3d": [
           {
            "colorbar": {
             "outlinewidth": 0,
             "ticks": ""
            },
            "type": "mesh3d"
           }
          ],
          "parcoords": [
           {
            "line": {
             "colorbar": {
              "outlinewidth": 0,
              "ticks": ""
             }
            },
            "type": "parcoords"
           }
          ],
          "pie": [
           {
            "automargin": true,
            "type": "pie"
           }
          ],
          "scatter": [
           {
            "marker": {
             "colorbar": {
              "outlinewidth": 0,
              "ticks": ""
             }
            },
            "type": "scatter"
           }
          ],
          "scatter3d": [
           {
            "line": {
             "colorbar": {
              "outlinewidth": 0,
              "ticks": ""
             }
            },
            "marker": {
             "colorbar": {
              "outlinewidth": 0,
              "ticks": ""
             }
            },
            "type": "scatter3d"
           }
          ],
          "scattercarpet": [
           {
            "marker": {
             "colorbar": {
              "outlinewidth": 0,
              "ticks": ""
             }
            },
            "type": "scattercarpet"
           }
          ],
          "scattergeo": [
           {
            "marker": {
             "colorbar": {
              "outlinewidth": 0,
              "ticks": ""
             }
            },
            "type": "scattergeo"
           }
          ],
          "scattergl": [
           {
            "marker": {
             "colorbar": {
              "outlinewidth": 0,
              "ticks": ""
             }
            },
            "type": "scattergl"
           }
          ],
          "scattermapbox": [
           {
            "marker": {
             "colorbar": {
              "outlinewidth": 0,
              "ticks": ""
             }
            },
            "type": "scattermapbox"
           }
          ],
          "scatterpolar": [
           {
            "marker": {
             "colorbar": {
              "outlinewidth": 0,
              "ticks": ""
             }
            },
            "type": "scatterpolar"
           }
          ],
          "scatterpolargl": [
           {
            "marker": {
             "colorbar": {
              "outlinewidth": 0,
              "ticks": ""
             }
            },
            "type": "scatterpolargl"
           }
          ],
          "scatterternary": [
           {
            "marker": {
             "colorbar": {
              "outlinewidth": 0,
              "ticks": ""
             }
            },
            "type": "scatterternary"
           }
          ],
          "surface": [
           {
            "colorbar": {
             "outlinewidth": 0,
             "ticks": ""
            },
            "colorscale": [
             [
              0,
              "#0d0887"
             ],
             [
              0.1111111111111111,
              "#46039f"
             ],
             [
              0.2222222222222222,
              "#7201a8"
             ],
             [
              0.3333333333333333,
              "#9c179e"
             ],
             [
              0.4444444444444444,
              "#bd3786"
             ],
             [
              0.5555555555555556,
              "#d8576b"
             ],
             [
              0.6666666666666666,
              "#ed7953"
             ],
             [
              0.7777777777777778,
              "#fb9f3a"
             ],
             [
              0.8888888888888888,
              "#fdca26"
             ],
             [
              1,
              "#f0f921"
             ]
            ],
            "type": "surface"
           }
          ],
          "table": [
           {
            "cells": {
             "fill": {
              "color": "#EBF0F8"
             },
             "line": {
              "color": "white"
             }
            },
            "header": {
             "fill": {
              "color": "#C8D4E3"
             },
             "line": {
              "color": "white"
             }
            },
            "type": "table"
           }
          ]
         },
         "layout": {
          "annotationdefaults": {
           "arrowcolor": "#2a3f5f",
           "arrowhead": 0,
           "arrowwidth": 1
          },
          "coloraxis": {
           "colorbar": {
            "outlinewidth": 0,
            "ticks": ""
           }
          },
          "colorscale": {
           "diverging": [
            [
             0,
             "#8e0152"
            ],
            [
             0.1,
             "#c51b7d"
            ],
            [
             0.2,
             "#de77ae"
            ],
            [
             0.3,
             "#f1b6da"
            ],
            [
             0.4,
             "#fde0ef"
            ],
            [
             0.5,
             "#f7f7f7"
            ],
            [
             0.6,
             "#e6f5d0"
            ],
            [
             0.7,
             "#b8e186"
            ],
            [
             0.8,
             "#7fbc41"
            ],
            [
             0.9,
             "#4d9221"
            ],
            [
             1,
             "#276419"
            ]
           ],
           "sequential": [
            [
             0,
             "#0d0887"
            ],
            [
             0.1111111111111111,
             "#46039f"
            ],
            [
             0.2222222222222222,
             "#7201a8"
            ],
            [
             0.3333333333333333,
             "#9c179e"
            ],
            [
             0.4444444444444444,
             "#bd3786"
            ],
            [
             0.5555555555555556,
             "#d8576b"
            ],
            [
             0.6666666666666666,
             "#ed7953"
            ],
            [
             0.7777777777777778,
             "#fb9f3a"
            ],
            [
             0.8888888888888888,
             "#fdca26"
            ],
            [
             1,
             "#f0f921"
            ]
           ],
           "sequentialminus": [
            [
             0,
             "#0d0887"
            ],
            [
             0.1111111111111111,
             "#46039f"
            ],
            [
             0.2222222222222222,
             "#7201a8"
            ],
            [
             0.3333333333333333,
             "#9c179e"
            ],
            [
             0.4444444444444444,
             "#bd3786"
            ],
            [
             0.5555555555555556,
             "#d8576b"
            ],
            [
             0.6666666666666666,
             "#ed7953"
            ],
            [
             0.7777777777777778,
             "#fb9f3a"
            ],
            [
             0.8888888888888888,
             "#fdca26"
            ],
            [
             1,
             "#f0f921"
            ]
           ]
          },
          "colorway": [
           "#636efa",
           "#EF553B",
           "#00cc96",
           "#ab63fa",
           "#FFA15A",
           "#19d3f3",
           "#FF6692",
           "#B6E880",
           "#FF97FF",
           "#FECB52"
          ],
          "font": {
           "color": "#2a3f5f"
          },
          "geo": {
           "bgcolor": "white",
           "lakecolor": "white",
           "landcolor": "#E5ECF6",
           "showlakes": true,
           "showland": true,
           "subunitcolor": "white"
          },
          "hoverlabel": {
           "align": "left"
          },
          "hovermode": "closest",
          "mapbox": {
           "style": "light"
          },
          "paper_bgcolor": "white",
          "plot_bgcolor": "#E5ECF6",
          "polar": {
           "angularaxis": {
            "gridcolor": "white",
            "linecolor": "white",
            "ticks": ""
           },
           "bgcolor": "#E5ECF6",
           "radialaxis": {
            "gridcolor": "white",
            "linecolor": "white",
            "ticks": ""
           }
          },
          "scene": {
           "xaxis": {
            "backgroundcolor": "#E5ECF6",
            "gridcolor": "white",
            "gridwidth": 2,
            "linecolor": "white",
            "showbackground": true,
            "ticks": "",
            "zerolinecolor": "white"
           },
           "yaxis": {
            "backgroundcolor": "#E5ECF6",
            "gridcolor": "white",
            "gridwidth": 2,
            "linecolor": "white",
            "showbackground": true,
            "ticks": "",
            "zerolinecolor": "white"
           },
           "zaxis": {
            "backgroundcolor": "#E5ECF6",
            "gridcolor": "white",
            "gridwidth": 2,
            "linecolor": "white",
            "showbackground": true,
            "ticks": "",
            "zerolinecolor": "white"
           }
          },
          "shapedefaults": {
           "line": {
            "color": "#2a3f5f"
           }
          },
          "ternary": {
           "aaxis": {
            "gridcolor": "white",
            "linecolor": "white",
            "ticks": ""
           },
           "baxis": {
            "gridcolor": "white",
            "linecolor": "white",
            "ticks": ""
           },
           "bgcolor": "#E5ECF6",
           "caxis": {
            "gridcolor": "white",
            "linecolor": "white",
            "ticks": ""
           }
          },
          "title": {
           "x": 0.05
          },
          "xaxis": {
           "automargin": true,
           "gridcolor": "white",
           "linecolor": "white",
           "ticks": "",
           "title": {
            "standoff": 15
           },
           "zerolinecolor": "white",
           "zerolinewidth": 2
          },
          "yaxis": {
           "automargin": true,
           "gridcolor": "white",
           "linecolor": "white",
           "ticks": "",
           "title": {
            "standoff": 15
           },
           "zerolinecolor": "white",
           "zerolinewidth": 2
          }
         }
        },
        "xaxis": {
         "linecolor": "rgb(204, 204, 204)",
         "linewidth": 2,
         "showgrid": false,
         "showline": true,
         "showticklabels": true,
         "tickfont": {
          "color": "rgb(82, 82, 82)",
          "family": "Arial",
          "size": 12
         },
         "ticks": "outside"
        },
        "yaxis": {
         "showgrid": false,
         "showline": false,
         "showticklabels": false,
         "zeroline": false
        }
       }
      }
     },
     "metadata": {}
    }
   ],
   "source": [
    "prices = ffn.get('SPY, VTV, QUAL', start='2020-01-01', end='2020-04-26')\n",
    "prices = prices.rebase()\n",
    "fig = go.Figure()\n",
    "\n",
    "fig.add_trace(go.Scatter(x=list(prices.index.values) , y=prices['spy'],\n",
    "                    mode='lines',\n",
    "                    name='S&P 500',showlegend=True))\n",
    "fig.add_trace(go.Scatter(x=list(prices.index.values) , y=prices['qual'],\n",
    "                    mode='lines',\n",
    "                    name='Value',showlegend=True))\n",
    "\n",
    "fig.update_layout(\n",
    "    xaxis=dict(\n",
    "        showline=True,\n",
    "        showgrid=False,\n",
    "        showticklabels=True,\n",
    "        linecolor='rgb(204, 204, 204)',\n",
    "        linewidth=2,\n",
    "        ticks='outside',\n",
    "        tickfont=dict(\n",
    "            family='Arial',\n",
    "            size=12,\n",
    "            color='rgb(82, 82, 82)',\n",
    "        ),\n",
    "    ),\n",
    "    yaxis=dict(\n",
    "        showgrid=False,\n",
    "        zeroline=False,\n",
    "        showline=False,\n",
    "        showticklabels=False,\n",
    "    ),\n",
    "    autosize=False,\n",
    "    margin=dict(\n",
    "        autoexpand=False,\n",
    "        l=100,\n",
    "        r=20,\n",
    "        t=110,\n",
    "    ),\n",
    "    showlegend=True,\n",
    "    plot_bgcolor='white'\n",
    ")\n",
    "fig.show()"
   ]
  },
  {
   "cell_type": "code",
   "execution_count": null,
   "metadata": {},
   "outputs": [],
   "source": []
  }
 ],
 "metadata": {
  "language_info": {
   "codemirror_mode": {
    "name": "ipython",
    "version": 3
   },
   "file_extension": ".py",
   "mimetype": "text/x-python",
   "name": "python",
   "nbconvert_exporter": "python",
   "pygments_lexer": "ipython3",
   "version": "3.7.3-final"
  },
  "orig_nbformat": 2,
  "kernelspec": {
   "name": "python3",
   "display_name": "Python 3"
  }
 },
 "nbformat": 4,
 "nbformat_minor": 2
}